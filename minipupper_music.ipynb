{
 "cells": [
  {
   "cell_type": "markdown",
   "id": "a1607575-8202-4281-8e06-2409e5ed751c",
   "metadata": {},
   "source": [
    "## remove docker "
   ]
  },
  {
   "cell_type": "code",
   "execution_count": null,
   "id": "54d042ea",
   "metadata": {},
   "outputs": [],
   "source": [
    "%%bash\n",
    "\n",
    "docker rm -f $(docker ps -a -q)\n",
    "docker rmi -f $(docker images -a -q)\n",
    "echo \"done\"\n",
    "#!docker system prune"
   ]
  },
  {
   "cell_type": "markdown",
   "id": "285ed3ca",
   "metadata": {},
   "source": [
    "### Get the Greengrass software on the RPi\n",
    "\n",
    "Download and unzip the Greengrass core software."
   ]
  },
  {
   "cell_type": "code",
   "execution_count": null,
   "id": "80bb1dfa",
   "metadata": {},
   "outputs": [],
   "source": [
    "!echo \"downloading\" && curl -s https://d2s8p88vqu9w66.cloudfront.net/releases/greengrass-nucleus-latest.zip > greengrass-nucleus-latest.zip && unzip -o greengrass-nucleus-latest.zip -d ~/GreengrassCore && echo \"done\""
   ]
  },
  {
   "cell_type": "markdown",
   "id": "ec4e018d",
   "metadata": {},
   "source": [
    "### Register the RPi with AWS using Greengrass\n",
    "\n",
    "You need to paste in your AWS credentials from the workshop authentication page.\n",
    "\n",
    "Run the Greengrass provisioning command."
   ]
  },
  {
   "cell_type": "code",
   "execution_count": null,
   "id": "8b03dcf9",
   "metadata": {},
   "outputs": [],
   "source": [
    "%%bash\n",
    "# add your credential from AWS console\n",
    "export AWS_ACCESS_KEY_ID=\"\"\n",
    "export AWS_SECRET_ACCESS_KEY=\"\"\n",
    "export AWS_SESSION_TOKEN=\"\"\n",
    "export AWS_DEFAULT_REGION=\"us-east-1\"\n",
    "\n",
    "sudo -E java -Droot=\"/greengrass/v2\" -Dlog.store=FILE -jar ../GreengrassCore/lib/Greengrass.jar \\\n",
    "           --thing-name ROS2_Minipupper \\\n",
    "           --thing-group-name ROS2_Minipuppers \\\n",
    "           --tes-role-name LabRole \\\n",
    "           --tes-role-alias-name GreengrassCoreTokenExchangeRoleAlias \\\n",
    "           --component-default-user ggc_user:ggc_group \\\n",
    "           --provision true \\\n",
    "           --setup-system-service true \\\n",
    "           --deploy-dev-tools true \\\n",
    "           --aws-region ${AWS_DEFAULT_REGION}\n",
    "\n",
    "echo \"done\""
   ]
  },
  {
   "cell_type": "markdown",
   "id": "125f67fa",
   "metadata": {},
   "source": [
    "### Empower ggc_user to make full use of the Pupper's systems\n",
    "\n",
    "Give the newly created ggc_user access to run docker applications and the i2c bus:"
   ]
  },
  {
   "cell_type": "code",
   "execution_count": null,
   "id": "5f19d4cb",
   "metadata": {},
   "outputs": [],
   "source": [
    "%%bash\n",
    "\n",
    "sudo usermod -aG docker ggc_user\n",
    "sudo usermod -aG i2c ggc_user\n",
    "sudo usermod -aG video ggc_user\n",
    "sudo setfacl --modify group:docker:rw /var/run/docker.sock\n",
    "echo \"done\""
   ]
  },
  {
   "cell_type": "markdown",
   "id": "0f7d4236",
   "metadata": {},
   "source": [
    "### Check the RPi has appeared in the AWS Console\n",
    "\n",
    "In a new browser tab, open the Greengrass Console and click on Core Devices. You should see your new Greengrass application running!\n",
    "\n",
    "### Use the Greengrass CLI to see what the Pupper is capable of\n",
    "\n",
    "Note: The CLI deployment takes ~4 minutes, if you see errors here, wait a few minutes and try again.\n",
    "\n",
    "Run the following command to interact with the Greengrass CLI on the robot:"
   ]
  },
  {
   "cell_type": "code",
   "execution_count": null,
   "id": "eb25dd2a-0af1-497e-8107-e5f263eb23f2",
   "metadata": {},
   "outputs": [],
   "source": []
  },
  {
   "cell_type": "code",
   "execution_count": null,
   "id": "6c032bcb",
   "metadata": {},
   "outputs": [],
   "source": [
    "%%bash\n",
    "\n",
    "cd /greengrass/v2/bin\n",
    "sudo ./greengrass-cli component list"
   ]
  },
  {
   "cell_type": "markdown",
   "id": "508ba66d-78c9-4836-b7fa-37d2896743b3",
   "metadata": {},
   "source": [
    "## check the output from docker-compose process"
   ]
  },
  {
   "cell_type": "code",
   "execution_count": null,
   "id": "7a4da089-4055-430f-848b-b76bab717d5e",
   "metadata": {},
   "outputs": [],
   "source": [
    "%%bash\n",
    "export COMPONENT_NAME=com.example.ros2.mini_pupper_v2\n",
    "#export COMPONENT_NAME=com.example.ros2.demo\n",
    "\n",
    "export ARTIFACT_DIR=/greengrass/v2/packages/artifacts/$COMPONENT_NAME/1.0.6/\n",
    "sudo docker-compose -f $ARTIFACT_DIR/docker-compose_nobuild.yaml logs --follow"
   ]
  },
  {
   "cell_type": "markdown",
   "id": "9d3a582d",
   "metadata": {},
   "source": [
    "### Done!\n",
    "\n",
    "You can now return to the workshop documentation."
   ]
  },
  {
   "cell_type": "code",
   "execution_count": null,
   "id": "e20d2f26-ba73-49ad-8cc5-99b6dcfb772a",
   "metadata": {},
   "outputs": [],
   "source": [
    "%%bash\n",
    "export COMPONENT_NAME=com.example.ros2.mini_pupper_v2\n",
    "#export COMPONENT_NAME=com.example.ros2.demo\n",
    "\n",
    "export ARTIFACT_DIR=/greengrass/v2/packages/artifacts/$COMPONENT_NAME/1.0.2/\n",
    "\n",
    "sudo docker-compose -f $ARTIFACT_DIR/docker-compose_nobuild.yaml down"
   ]
  },
  {
   "cell_type": "code",
   "execution_count": null,
   "id": "9598c407-44a3-4e8a-b4dd-3d32ccd83881",
   "metadata": {},
   "outputs": [],
   "source": []
  }
 ],
 "metadata": {
  "kernelspec": {
   "display_name": "Python 3 (ipykernel)",
   "language": "python",
   "name": "python3"
  },
  "language_info": {
   "codemirror_mode": {
    "name": "ipython",
    "version": 3
   },
   "file_extension": ".py",
   "mimetype": "text/x-python",
   "name": "python",
   "nbconvert_exporter": "python",
   "pygments_lexer": "ipython3",
   "version": "3.10.12"
  }
 },
 "nbformat": 4,
 "nbformat_minor": 5
}
